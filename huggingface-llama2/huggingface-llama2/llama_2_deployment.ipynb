{
 "cells": [
  {
   "cell_type": "markdown",
   "metadata": {
    "id": "1-yetF3Srnk3"
   },
   "source": [
    "# Deploying Llama 2 to UbiOps\n",
    "\n",
    "This notebook will help you create a cloud-based inference API endpoint for the [Llama-2-7B-HF model](https://huggingface.co/meta-Llama/Llama-2-7b-chat-hf),\n",
    "using UbiOps. The Llama 2 version we will be using is already pretrained and will be \n",
    "loaded from the Huggingface [Meta-Llama](https://huggingface.co/meta-Llama) library. The model has been developed by Meta AI.\n",
    "\n",
    "Llama 2 is a collection of models, ranging from 7 billion to 70 billion parameters. The version that is used in this tutorial\n",
    "is the fine-tuned version of Llama 7B. it has been optimized for use cases involving dialogues.\n",
    "\n",
    "Note that you will need to have an HF token if you want to download a Llama 2 model from Huggingface. You can apply for one\n",
    "[here](https://docs.google.com/forms/d/e/1FAIpQLSfqNECQnMkycAp2jP4Z9TFX0cGR4uf7b_fBxjY_OjhJILlKGA/viewform).\n",
    "\n",
    "In this notebook we will walk you through:\n",
    "\n",
    "1. Connecting with the UbiOps API client\n",
    "2. Creating a code environment for our deployment\n",
    "3. Creating a deployment for the Llama 2 model\n",
    "4. Calling the Llama 2 deployment API endpoint\n",
    "\n",
    "Llama 2 is a text-to-text model. Therefore we will make a deployment which takes a text prompt as an input, and returns\n",
    "a response:\n",
    "\n",
    "|Deployment input & output variables| **Variable name** |**Data type** |\n",
    "|--------------------|--------------|----\n",
    "| **Input fields** | prompt | string |\n",
    "| **Output fields** | response | string |\n",
    "\n",
    "Note that we deploy to a GPU instance by default, which are not accessible in every project. You can \n",
    "[contact us](https://ubiops.com/contact-us/) about this.\n",
    "Let's get started!"
   ]
  },
  {
   "cell_type": "markdown",
   "metadata": {
    "id": "i1O0t37LOYJh"
   },
   "source": [
    "\n",
    "## 1. Connecting with the UbiOps API client\n",
    "To use the UbiOps API from our notebook, we need to install the UbiOps Python client library."
   ]
  },
  {
   "cell_type": "code",
   "execution_count": null,
   "metadata": {
    "id": "CBDhY41Hw6pz"
   },
   "outputs": [],
   "source": [
    "!pip install --upgrade ubiops"
   ]
  },
  {
   "cell_type": "markdown",
   "metadata": {
    "id": "JBQfwWt4rnk4"
   },
   "source": [
    "To set up a connection with the UbiOps platform API we need the name of your UbiOps project and an API token with `project-editor` permissions.\n",
    "\n",
    "Once you have your project name and API token, paste them below in the following cell before running."
   ]
  },
  {
   "cell_type": "code",
   "execution_count": null,
   "metadata": {
    "id": "IcMtxyTvrnk4"
   },
   "outputs": [],
   "source": [
    "import ubiops\n",
    "from datetime import datetime\n",
    "\n",
    "API_TOKEN = \"<API TOKEN>\"  # Make sure this is in the format \"Token token-code\"\n",
    "PROJECT_NAME = \"<PROJECT_NAME>\"  # Fill in your project name here\n",
    "\n",
    "DEPLOYMENT_NAME = f\"llama-2-7b-{datetime.now().date()}\"\n",
    "DEPLOYMENT_VERSION = \"v1\"\n",
    "\n",
    "# Initialize client library\n",
    "configuration = ubiops.Configuration(host=\"https://api.ubiops.com/v2.1\")\n",
    "configuration.api_key[\"Authorization\"] = API_TOKEN\n",
    "\n",
    "# Establish a connection\n",
    "client = ubiops.ApiClient(configuration)\n",
    "api = ubiops.CoreApi(client)\n",
    "print(api.projects_get(PROJECT_NAME))"
   ]
  },
  {
   "cell_type": "markdown",
   "metadata": {
    "id": "Q0uBONwUtCdm"
   },
   "source": [
    "## 2. Setting up the environment\n",
    "\n",
    "Our environment code contains instructions to install dependencies."
   ]
  },
  {
   "cell_type": "code",
   "execution_count": null,
   "metadata": {
    "id": "V-AR2GFxlRN4"
   },
   "outputs": [],
   "source": [
    "environment_dir = \"environment_package\"\n",
    "ENVIRONMENT_NAME = \"llama-2-environment\""
   ]
  },
  {
   "cell_type": "code",
   "execution_count": null,
   "metadata": {
    "id": "yESMyTdek6Pu"
   },
   "outputs": [],
   "source": [
    "%mkdir {environment_dir}"
   ]
  },
  {
   "cell_type": "markdown",
   "metadata": {
    "id": "JLPngTwatSvQ"
   },
   "source": [
    "We first write a `requirements.txt` file, which contains the Python packages that we will use in our deployment code"
   ]
  },
  {
   "cell_type": "code",
   "execution_count": null,
   "metadata": {
    "id": "Yyybhdawk8ju"
   },
   "outputs": [],
   "source": [
    "%%writefile {environment_dir}/requirements.txt\n",
    "# This file contains package requirements for the environment\n",
    "# installed via PIP.\n",
    "diffusers\n",
    "transformers\n",
    "scipy\n",
    "torch==1.13.1\n",
    "accelerate\n",
    "huggingface-hub\n",
    "ubiops"
   ]
  },
  {
   "cell_type": "markdown",
   "metadata": {
    "id": "goTGrRu1thaV"
   },
   "source": [
    "Next we add a `ubiops.yaml` to set a remote pip index. This ensures that we install a CUDA-compatible version of PyTorch. \n",
    "CUDA allows models to be loaded and to run GPUs."
   ]
  },
  {
   "cell_type": "code",
   "execution_count": null,
   "metadata": {
    "id": "BBEfEOyHlJc9"
   },
   "outputs": [],
   "source": [
    "%%writefile {environment_dir}/ubiops.yaml\n",
    "environment_variables:\n",
    "- PIP_EXTRA_INDEX_URL=https://download.pytorch.org/whl/cu110"
   ]
  },
  {
   "cell_type": "markdown",
   "metadata": {
    "id": "e1laiUgRt5K9"
   },
   "source": [
    "Now we create a UbiOps `environment`. We select Python3.9 with CUDA pre-installed as the `base environment` if we want \n",
    "to run on GPUs. If we run on CPUs, then we use `python3-9`.\n",
    "\n",
    "Our additional dependencies are installed on top of this base environment, to create our new `custom_environment` \n",
    "called `llama-2-environment`."
   ]
  },
  {
   "cell_type": "code",
   "execution_count": null,
   "metadata": {
    "id": "bnFTXmNll5I0"
   },
   "outputs": [],
   "source": [
    "api_response = api.environments_create(\n",
    "    project_name=PROJECT_NAME,\n",
    "    data=ubiops.EnvironmentCreate(\n",
    "        name=ENVIRONMENT_NAME,\n",
    "        # display_name=ENVIRONMENT_NAME,\n",
    "        base_environment=\"python3-9-cuda\",  # use python3-9 when running on CPU\n",
    "        description=\"Environment to run Llama 2 7B from Huggingface\",\n",
    "    ),\n",
    ")"
   ]
  },
  {
   "cell_type": "markdown",
   "metadata": {
    "id": "Hy_3Ih3Xs-At"
   },
   "source": [
    "Package and upload the environment files."
   ]
  },
  {
   "cell_type": "code",
   "execution_count": null,
   "metadata": {
    "id": "JqY61U8Us7S8"
   },
   "outputs": [],
   "source": [
    "import shutil\n",
    "\n",
    "training_environment_archive = shutil.make_archive(\n",
    "    environment_dir, \"zip\", \".\", environment_dir\n",
    ")\n",
    "api.environment_revisions_file_upload(\n",
    "    project_name=PROJECT_NAME,\n",
    "    environment_name=ENVIRONMENT_NAME,\n",
    "    file=training_environment_archive,\n",
    ")"
   ]
  },
  {
   "cell_type": "markdown",
   "metadata": {
    "id": "DSTlQ2iKy02n"
   },
   "source": [
    "## 3. Creating a deployment for the LLaMa 2 7B model\n",
    "\n",
    "Now that we have created our code environment in UbiOps, it is time to write the actual code to run the Llama-2-7B-HF \n",
    "model and push it to UbiOps.\n",
    "\n",
    "As you can see we're uploading a `deployment.py` file with a `Deployment` class and two methods:\n",
    "- `__init__` will run when the deployment starts up and can be used to load models, data, artifacts and other requirements for inference.\n",
    "- `request()` will run every time a call is made to the model REST API endpoint and includes all the logic for processing data.\n",
    "\n",
    "Separating the logic between the two methods will ensure fast model response times. We will load the model from Huggingface\n",
    "in the `__init__` method, and code that needs to be ran when a call is made to the deployment in the `request()` method.\n",
    "This way the model only needs to be loaded in when the deployment starts up. "
   ]
  },
  {
   "cell_type": "code",
   "execution_count": null,
   "metadata": {
    "id": "m75uYrAYmk9s"
   },
   "outputs": [],
   "source": [
    "deployment_code_dir = \"deployment_code\""
   ]
  },
  {
   "cell_type": "code",
   "execution_count": null,
   "metadata": {
    "id": "iOqhWrwpy9Sn"
   },
   "outputs": [],
   "source": [
    "!mkdir {deployment_code_dir}"
   ]
  },
  {
   "cell_type": "code",
   "execution_count": null,
   "metadata": {
    "id": "BGKxscOizDa9"
   },
   "outputs": [],
   "source": [
    "%%writefile {deployment_code_dir}/deployment.py\n",
    "# Code to load from huggingface\n",
    "\"\"\"\n",
    "The file containing the deployment code needs to be called 'deployment.py' and should contain a 'Deployment'\n",
    "class a 'request' method.\n",
    "\"\"\"\n",
    "\n",
    "import os\n",
    "from transformers import AutoTokenizer, LlamaForCausalLM, GenerationConfig\n",
    "import torch\n",
    "import shutil\n",
    "from huggingface_hub import login\n",
    "import os\n",
    "import ubiops\n",
    "\n",
    "class Deployment:\n",
    "\n",
    "    def __init__(self, base_directory, context):\n",
    "        \"\"\"\n",
    "        Initialisation method for the deployment. Any code inside this method will execute when the deployment starts up.\n",
    "        It can for example be used for loading modules that have to be stored in memory or setting up connections.\n",
    "        \"\"\"\n",
    "\n",
    "\n",
    "        PROJECT_NAME = context['project']\n",
    "\n",
    "        self.REPETITION_PENALTY = float(os.environ.get('REPETITION_PENALTY', 1.15))\n",
    "        self.MAX_RESPONSE_LENGTH  = float(os.environ.get('MAX_RESPONSE_LENGTH', 128))\n",
    "\n",
    "        # Retrieve HF token\n",
    "        model_hf_name = os.environ['model_id']\n",
    "        token = os.environ[\"HF_TOKEN\"]\n",
    "\n",
    "        login(token=token)\n",
    "\n",
    "        self.tokenizer = AutoTokenizer.from_pretrained(model_hf_name, use_auth_token= token)\n",
    "        self.model = LlamaForCausalLM.from_pretrained(model_hf_name, use_auth_token= token)\n",
    "\n",
    "        print(f\"Model {model_hf_name} loaded\")\n",
    "\n",
    "        self.device = torch.device('cuda' if torch.cuda.is_available() else 'cpu')\n",
    "        \n",
    "        # Load model to GPU if available\n",
    "        self.model.to(self.device)\n",
    "\n",
    "        # Set model config\n",
    "        self.generation_config = GenerationConfig(repetition_penalty=self.REPETITION_PENALTY)\n",
    "\n",
    "        print(\"Initialising deployment\")\n",
    "\n",
    "\n",
    "    def request(self, data):\n",
    "\n",
    "        \"\"\"\n",
    "        Method for deployment requests, called separately for each individual request.\n",
    "        \"\"\"\n",
    "        prompt = data[\"prompt\"]\n",
    "        print(f\"Running model on {self.device}\")\n",
    "        inputs = self.tokenizer(prompt, return_tensors=\"pt\")\n",
    "        inputs.to(self.device)\n",
    "\n",
    "        # Generate\n",
    "        with torch.no_grad():\n",
    "          generate_ids = self.model.generate(inputs.input_ids, max_length=self.MAX_RESPONSE_LENGTH, generation_config=self.generation_config)\n",
    "\n",
    "        response = self.tokenizer.batch_decode(generate_ids, skip_special_tokens=True, clean_up_tokenization_spaces=False)\n",
    "        print(\"full response\")\n",
    "        print(response)\n",
    "\n",
    "        filtered_response = self.filter_prompt_from_response(prompt, response[0])\n",
    "        return {\"response\": filtered_response}\n",
    "\n",
    "    @staticmethod\n",
    "    def filter_prompt_from_response(prompt, response_text):\n",
    "\n",
    "      # Find the index where the prompt ends\n",
    "\n",
    "      prompt_end_index = response_text.find(prompt) + len(prompt)\n",
    "\n",
    "      # Get the generated response after the prompt\n",
    "\n",
    "      filtered_response = response_text[prompt_end_index:].strip()\n",
    "\n",
    "      return filtered_response"
   ]
  },
  {
   "cell_type": "markdown",
   "metadata": {
    "id": "vkn-xQGyrzpp"
   },
   "source": [
    "### Create a UbiOps deployment\n",
    "\n",
    "Create a deployment. Here we define the in- and outputs of a model. We can create different deployment versions\n"
   ]
  },
  {
   "cell_type": "code",
   "execution_count": null,
   "metadata": {
    "id": "zUbHzsSbyhgC"
   },
   "outputs": [],
   "source": [
    "# Create the deployment\n",
    "deployment_template = ubiops.DeploymentCreate(\n",
    "    name=DEPLOYMENT_NAME,\n",
    "    input_type=\"structured\",\n",
    "    output_type=\"structured\",\n",
    "    input_fields=[{\"name\": \"prompt\", \"data_type\": \"string\"}],\n",
    "    output_fields=[{\"name\": \"response\", \"data_type\": \"string\"}],\n",
    ")\n",
    "\n",
    "api.deployments_create(project_name=PROJECT_NAME, data=deployment_template)"
   ]
  },
  {
   "cell_type": "markdown",
   "metadata": {
    "id": "gou_ZJxZrnk9"
   },
   "source": [
    "### Create a deployment version\n",
    "\n",
    "Now we will create a version of the deployment. For the version we need to define the name, the environment, the type of instance (CPU or GPU) as well the size of the instance."
   ]
  },
  {
   "cell_type": "code",
   "execution_count": null,
   "metadata": {
    "id": "5IQDht-Krnk-"
   },
   "outputs": [],
   "source": [
    "# Create the version\n",
    "version_template = ubiops.DeploymentVersionCreate(\n",
    "    version=DEPLOYMENT_VERSION,\n",
    "    environment=ENVIRONMENT_NAME,\n",
    "    instance_type=\"180000mb_a100\", \n",
    "    maximum_instances=1,\n",
    "    minimum_instances=0,\n",
    "    maximum_idle_time=600,  # = 10 minutes\n",
    "    request_retention_mode=\"full\",\n",
    ")\n",
    "\n",
    "api.deployment_versions_create(\n",
    "    project_name=PROJECT_NAME, deployment_name=DEPLOYMENT_NAME, data=version_template\n",
    ")"
   ]
  },
  {
   "cell_type": "markdown",
   "metadata": {
    "id": "ZnD5H2onrnk-"
   },
   "source": [
    "Package and upload the code\n",
    "\n"
   ]
  },
  {
   "cell_type": "code",
   "execution_count": null,
   "metadata": {
    "id": "G7x9Gi7xOHSf"
   },
   "outputs": [],
   "source": [
    "# And now we zip our code (deployment package) and push it to the version\n",
    "\n",
    "import shutil\n",
    "\n",
    "deployment_code_archive = shutil.make_archive(\n",
    "    deployment_code_dir, \"zip\", deployment_code_dir\n",
    ")\n",
    "\n",
    "upload_response = api.revisions_file_upload(\n",
    "    project_name=PROJECT_NAME,\n",
    "    deployment_name=DEPLOYMENT_NAME,\n",
    "    version=DEPLOYMENT_VERSION,\n",
    "    file=deployment_code_archive,\n",
    ")\n",
    "print(upload_response)\n",
    "\n",
    "# Check if the deployment is finished building. This can take a few minutes\n",
    "ubiops.utils.wait_for_deployment_version(\n",
    "    client=api.api_client,\n",
    "    project_name=PROJECT_NAME,\n",
    "    deployment_name=DEPLOYMENT_NAME,\n",
    "    version=DEPLOYMENT_VERSION,\n",
    "    revision_id=upload_response.revision,\n",
    ")"
   ]
  },
  {
   "cell_type": "markdown",
   "metadata": {},
   "source": [
    "We can only send requests to our deployment version, after our environment has finished building. \n",
    "\n",
    "NOTE: Building the environment might take a while as we need to download and install all the packages and dependencies. We only need to build our environment once: next time that we spin up an instance of our deployment, we won't need to install all dependencies anymore. Toggle off `stream_logs` to not stream logs of the build process."
   ]
  },
  {
   "cell_type": "markdown",
   "metadata": {},
   "source": [
    "### Create an environment variable\n",
    "\n",
    "Here we create an environment variable for the `model_id`, which is used to specify which model will be downloaded from Huggingface. If you want to use another version of Llama you can replace the value of `MODEL_ID` in the cell below, with the `model_id` of the model that you would like to use."
   ]
  },
  {
   "cell_type": "code",
   "execution_count": null,
   "metadata": {},
   "outputs": [],
   "source": [
    "MODEL_ID = \"meta-llama/Llama-2-7b-chat-hf\"  # You can change this parameter if you want to use a different model from Huggingface.\n",
    "HF_TOKEN = \"<HF TOKEN>\"\n",
    "\n",
    "api_response = api.deployment_version_environment_variables_create(\n",
    "    project_name=PROJECT_NAME,\n",
    "    deployment_name=DEPLOYMENT_NAME,\n",
    "    version=DEPLOYMENT_VERSION,\n",
    "    data=ubiops.EnvironmentVariableCreate(\n",
    "        name=\"model_id\", value=MODEL_ID, secret=False\n",
    "    ),\n",
    ")\n",
    "\n",
    "api_response = api.deployment_version_environment_variables_create(\n",
    "    project_name=PROJECT_NAME,\n",
    "    deployment_name=DEPLOYMENT_NAME,\n",
    "    version=DEPLOYMENT_VERSION,\n",
    "    data=ubiops.EnvironmentVariableCreate(\n",
    "        name=\"HF_TOKEN\", value=HF_TOKEN, secret=False\n",
    "    ),\n",
    ")"
   ]
  },
  {
   "cell_type": "code",
   "execution_count": null,
   "metadata": {},
   "outputs": [],
   "source": [
    "ubiops.utils.wait_for_deployment_version(\n",
    "    api.api_client,\n",
    "    project_name=PROJECT_NAME,\n",
    "    deployment_name=DEPLOYMENT_NAME,\n",
    "    version=DEPLOYMENT_VERSION,\n",
    "    stream_logs=True,\n",
    ")"
   ]
  },
  {
   "cell_type": "markdown",
   "metadata": {
    "id": "7ZCNhtuprnk-"
   },
   "source": [
    "# 4. Calling the LLaMa 2 7B deployment API endpoint\n",
    "\n",
    "Our deployment is now ready to be requested! We can send requests to it via the `deployment-requests-create` or the `batch-deployment-requests-create` API endpoint. It is going to take some time before the request finishes. When our deployment first loads, a GPU node will need to spin up, and we will need to download the LLaMa 2 7B model from HuggingFace. Subsequent results to the deployment will be handled faster. We will use a batch request to kick off our instance. This way, we can stream the on-start logs, and monitor the progress of the request using the `ubiops.utils` library."
   ]
  },
  {
   "cell_type": "code",
   "execution_count": null,
   "metadata": {},
   "outputs": [],
   "source": [
    "data = {\n",
    "    \"prompt\": \"Tell me a fun fact about bears\",\n",
    "}\n",
    "\n",
    "api.deployment_requests_create(\n",
    "    project_name=PROJECT_NAME, deployment_name=DEPLOYMENT_NAME, data=data\n",
    ").result"
   ]
  },
  {
   "cell_type": "markdown",
   "metadata": {
    "id": "SctNpKvZoaBy"
   },
   "source": [
    "So that's it! You now have your own on-demand, scalable LLaMa 2 7B Chat HF model running in the cloud, with a REST API that you can reach from anywhere!"
   ]
  }
 ],
 "metadata": {
  "colab": {
   "provenance": []
  },
  "kernelspec": {
   "display_name": "Python 3",
   "language": "python",
   "name": "python3"
  },
  "language_info": {
   "codemirror_mode": {
    "name": "ipython",
    "version": 3
   },
   "file_extension": ".py",
   "mimetype": "text/x-python",
   "name": "python",
   "nbconvert_exporter": "python",
   "pygments_lexer": "ipython3",
   "version": "3.10.1"
  },
  "orig_nbformat": 4,
  "vscode": {
   "interpreter": {
    "hash": "98590ff4fe04c8543246b2a01debd3de3c5ca9b666f43f1fa87d5110c692004c"
   }
  }
 },
 "nbformat": 4,
 "nbformat_minor": 0
}
