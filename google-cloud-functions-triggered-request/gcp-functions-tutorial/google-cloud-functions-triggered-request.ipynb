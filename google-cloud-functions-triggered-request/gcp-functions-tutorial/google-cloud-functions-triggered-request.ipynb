{
 "cells": [
  {
   "attachments": {},
   "cell_type": "markdown",
   "metadata": {},
   "source": [
    "# Triggered Request from GCP Cloud Functions\n",
    "\n",
    "**Note**: This notebook runs on Python 3.9 and uses UbiOps CLient Library 3.15.0.\n",
    "\n",
    "This notebook will cover the steps required to create a dummy deployment and/or pipeline. The first part of this notebook will tackle the deployment creation process; afterwards, in the final part, a dummy pipeline will be created, making use of the deployment created in the previous step. \n",
    "\n",
    "We recommend to run the cells step by step, as some cells can take a few minutes to finish. You can run everything in one go as well and it will work, just allow a few minutes for building the deployments.\n",
    "\n",
    "## Establishing a connection with your UbiOps environment\n",
    "Add your API token and then provide a project name. Afterwards we initialize the client library. This way we can deploy the deployment and/or pipeline to your environment."
   ]
  },
  {
   "cell_type": "code",
   "execution_count": 2,
   "metadata": {},
   "outputs": [],
   "source": [
    "API_TOKEN = '<INSERT API_TOKEN WITH PROJECT EDITOR RIGHTS>' # Make sure this is in the format \"Token token-code\"\n",
    "PROJECT_NAME= '<INSERT PROJECT NAME IN YOUR ACCOUNT>'\n",
    "\n",
    "# Import all necessary libraries\n",
    "import requests\n",
    "import ubiops\n",
    "\n",
    "client = ubiops.ApiClient(ubiops.Configuration(api_key={'Authorization': API_TOKEN}, \n",
    "                                               host='https://api.ubiops.com/v2.1'))\n",
    "api = ubiops.CoreApi(client)"
   ]
  },
  {
   "cell_type": "markdown",
   "metadata": {},
   "source": [
    "## Create the dummy deployment\n",
    "\n",
    "This step will create and deploy a deployment to your UbiOps environment. The deployment's functionality will consist of just passing the input as an output (hence it being called a dummy deployment).'\n",
    "\n",
    "First, change the *DEPLOYMENT_NAME* and *DEPLOYMENT_VERSION* variables in the next cell to a deployment and version name of your choice. Then, simply run the following cell to create the dummy deployment."
   ]
  },
  {
   "cell_type": "code",
   "execution_count": 4,
   "metadata": {},
   "outputs": [],
   "source": [
    "DEPLOYMENT_NAME='example-deployment'\n",
    "DEPLOYMENT_VERSION='v1'\n",
    "\n",
    "deployment_template = ubiops.DeploymentCreate(\n",
    "    name=DEPLOYMENT_NAME,\n",
    "    description='Example deployment',\n",
    "    input_type='structured',\n",
    "    output_type='structured',\n",
    "    input_fields=[\n",
    "        {'name':'input', 'data_type':'string'}\n",
    "    ],\n",
    "    output_fields=[\n",
    "        {'name':'output', 'data_type':'string'}\n",
    "    ],\n",
    "    labels={'demo': 'gcp-functions-tutorial'}\n",
    ")\n",
    "\n",
    "api.deployments_create(\n",
    "    project_name=PROJECT_NAME,\n",
    "    data=deployment_template\n",
    ")\n",
    "\n",
    "# Create the version\n",
    "version_template = ubiops.DeploymentVersionCreate(\n",
    "    version=DEPLOYMENT_VERSION,\n",
    "    environment='python3-9',\n",
    "    instance_type='512mb',\n",
    "    minimum_instances=0,\n",
    "    maximum_instances=1,\n",
    "    maximum_idle_time=1800, # = 30 minutes\n",
    "    request_retention_mode='full', # input/output of requests will be stored\n",
    "    request_retention_time=3600 # requests will be stored for 1 hour\n",
    ")\n",
    "\n",
    "api.deployment_versions_create(\n",
    "    project_name=PROJECT_NAME,\n",
    "    deployment_name=DEPLOYMENT_NAME,\n",
    "    data=version_template\n",
    ")\n",
    "\n",
    "# Download the deployment package\n",
    "dummy_package = requests.get('https://storage.googleapis.com/ubiops/data/Integration%20with%20cloud%20provider%20tools/google-cloud-functions-triggered-request/dummy_package.zip')\n",
    "\n",
    "with open(\"dummy_package.zip\", \"wb\") as f:\n",
    "    f.write(dummy_package.content)\n",
    "\n",
    "# Upload the zipped deployment package\n",
    "file_upload_result =api.revisions_file_upload(\n",
    "    project_name=PROJECT_NAME,\n",
    "    deployment_name=DEPLOYMENT_NAME,\n",
    "    version=DEPLOYMENT_VERSION,\n",
    "    file='dummy_package.zip'\n",
    ")"
   ]
  },
  {
   "cell_type": "markdown",
   "metadata": {},
   "source": [
    "# Deployment created and deployed!\n",
    "\n",
    "Now that the deployment has been successfully created and deployed, we can move to the next step. \n",
    "\n",
    "The next step will continuously check and monitor the UbiOps environment in order to make sure that the created deployment has passed the building stage."
   ]
  },
  {
   "cell_type": "code",
   "execution_count": null,
   "metadata": {},
   "outputs": [],
   "source": [
    "ubiops.utils.wait_for_deployment_version(\n",
    "    client=api.api_client,\n",
    "    project_name=PROJECT_NAME,\n",
    "    deployment_name=DEPLOYMENT_NAME,\n",
    "    version=DEPLOYMENT_VERSION,\n",
    "    revision_id=file_upload_result.revision\n",
    ")"
   ]
  },
  {
   "cell_type": "markdown",
   "metadata": {},
   "source": [
    "# Deployment passed the building stage\n",
    "\n",
    "If the output of the previous cell is \"available\", the deployment has been successfully created, deployed and build. If you need to also create a dummy pipeline on top of the deployment, you can continue to the next step.\n",
    "\n",
    "In the next step, we will create a simple pipeline which uses the deployment that we have created in the previous cells of this notebook. This pipeline will consist of only one deployment (the one previously created) and it will not have any real functionality.\n",
    "\n",
    "First, give the dummy pipeline a name of your choice by changing the *PIPELINE_NAME* variable in the next cell. Then, simply run the cell to create the pipeline. "
   ]
  },
  {
   "cell_type": "code",
   "execution_count": null,
   "metadata": {},
   "outputs": [],
   "source": [
    "PIPELINE_NAME = \"example-pipeline\"\n",
    "\n",
    "pipeline_template = ubiops.PipelineCreate(\n",
    "    name=PIPELINE_NAME,\n",
    "    description=\"An example pipeline\",\n",
    "    input_type='structured',\n",
    "    input_fields=[\n",
    "        {'name':'input', 'data_type':'string'}\n",
    "    ],\n",
    "    output_type='structured',\n",
    "    output_fields=[\n",
    "        {'name':'output', 'data_type':'string'}\n",
    "    ],\n",
    "    labels={'demo': 'gcp-functions-tutorial'}\n",
    ")\n",
    "\n",
    "api.pipelines_create(\n",
    "    project_name=PROJECT_NAME,\n",
    "    data=pipeline_template\n",
    ")\n",
    "\n",
    "PIPELINE_VERSION = DEPLOYMENT_VERSION\n",
    "\n",
    "pipeline_template = ubiops.PipelineVersionCreate(\n",
    "    version=PIPELINE_VERSION,\n",
    "    request_retention_mode='full',\n",
    "    objects=[\n",
    "        # example deployment\n",
    "        {\n",
    "            'name': DEPLOYMENT_NAME,\n",
    "            'reference_name': DEPLOYMENT_NAME,\n",
    "            'version': DEPLOYMENT_VERSION\n",
    "        }\n",
    "    ],\n",
    "    attachments=[\n",
    "        # start --> example deployment\n",
    "        {\n",
    "            'destination_name': DEPLOYMENT_NAME,\n",
    "            'sources': [{\n",
    "                'source_name': 'pipeline_start',\n",
    "                'mapping': [{\n",
    "                    \"source_field_name\": 'input',\n",
    "                    'destination_field_name': 'input'\n",
    "                }]\n",
    "            }]\n",
    "        },\n",
    "        # example deployment --> pipeline end\n",
    "        {\n",
    "            'destination_name': 'pipeline_end',\n",
    "            'sources': [{\n",
    "                'source_name': DEPLOYMENT_NAME,\n",
    "                'mapping': [{\n",
    "                    \"source_field_name\": 'output',\n",
    "                    'destination_field_name': 'output'\n",
    "                }]\n",
    "            }]\n",
    "        }\n",
    "    ]\n",
    ")\n",
    "\n",
    "api.pipeline_versions_create(project_name=PROJECT_NAME, pipeline_name=PIPELINE_NAME, data=pipeline_template)"
   ]
  },
  {
   "cell_type": "markdown",
   "metadata": {},
   "source": [
    "**IMPORTANT**: If you get an error like: \"error\":\"Version is not available: The version is currently in the building stage\"\n",
    "Your deployment is not yet available and still building. \n",
    "Check in the UI if your deployment is ready and then rerun the block above.\n",
    "\n",
    "# Pipeline successfully created!"
   ]
  }
 ],
 "metadata": {
  "kernelspec": {
   "display_name": "Python 3.10.1 64-bit",
   "environment": "python",
   "name": "python3"
  },
  "language_info": {
   "codemirror_mode": {
    "name": "ipython",
    "version": 3
   },
   "file_extension": ".py",
   "mimetype": "text/x-python",
   "name": "python",
   "nbconvert_exporter": "python",
   "pygments_lexer": "ipython3",
   "version": "3.10.1"
  },
  "latex_envs": {
   "LaTeX_envs_menu_present": true,
   "autoclose": false,
   "autocomplete": true,
   "bibliofile": "biblio.bib",
   "cite_by": "apalike",
   "current_citInitial": 1,
   "eqLabelWithNumbers": true,
   "eqNumInitial": 1,
   "hotkeys": {
    "equation": "Ctrl-E",
    "itemize": "Ctrl-I"
   },
   "labels_anchors": false,
   "latex_user_defs": false,
   "report_style_numbering": false,
   "user_envs_cfg": false
  },
  "pycharm": {
   "stem_cell": {
    "cell_type": "raw",
    "metadata": {
     "collapsed": false
    },
    "source": []
   }
  },
  "vscode": {
   "interpreter": {
    "hash": "98590ff4fe04c8543246b2a01debd3de3c5ca9b666f43f1fa87d5110c692004c"
   }
  }
 },
 "nbformat": 4,
 "nbformat_minor": 4
}
