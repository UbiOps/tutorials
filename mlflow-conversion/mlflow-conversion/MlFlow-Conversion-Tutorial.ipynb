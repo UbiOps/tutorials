{
  "cells": [
    {
      "attachments": {},
      "cell_type": "markdown",
      "metadata": {
        "id": "og-_daIBbMMR"
      },
      "source": [
        "# MLFlow to UbiOps"
      ]
    },
    {
      "attachments": {},
      "cell_type": "markdown",
      "metadata": {
        "id": "iEAFwqg5bPYD"
      },
      "source": [
        "This tutorial will guide you through the process of deploying an MLFlow model to UbiOps.  \n",
        "For this tutorial, the [SKlearn Elasticnet Wine model](https://github.com/mlflow/mlflow/tree/6d0a9417dab9137e8a65af8a28d934b2dd41716c/examples/sklearn_elasticnet_wine) from the [MLFlow tutorial](https://mlflow.org/docs/latest/tutorials-and-examples/tutorial.html) will be used as an example."
      ]
    },
    {
      "attachments": {},
      "cell_type": "markdown",
      "metadata": {
        "id": "vR7fvDo2GuTo"
      },
      "source": [
        "### Method\n"
      ]
    },
    {
      "attachments": {},
      "cell_type": "markdown",
      "metadata": {
        "id": "_PBGgrFhGv7K"
      },
      "source": [
        "In this tutorial we will we create an universal UbiOps deployment that loads any MLFlow model\n",
        "that supports the Python function flavor.  \n",
        "The Python function flavor is the default model interface for MLFlow Python models. This type of model can easily be loaded by calling the `mlflow.pyfunc.load_model` function. Moreover, scoring the model can also easily be done by calling the `predict` method. The following input data types are possible together with the `predict` method:\n",
        "\n",
        "1. Pandas Dataframe\n",
        "2. Numpy Array\n",
        "3. Dict[`str`, numpy array]\n",
        "\n",
        "UbiOps doesn't support these input types natively. Therefore, the input/output is converted to and from a JSON string. This means that the input/output of the UbiOps deployment\n",
        "both need to be set to `String`.  \n",
        "Furthermore, the requirements of the MLFlow model will be inserted into the `requirements.txt` file of the deployment."
      ]
    },
    {
      "attachments": {},
      "cell_type": "markdown",
      "metadata": {
        "id": "0Al5FbPxHhjB"
      },
      "source": [
        "## Tutorial structure"
      ]
    },
    {
      "attachments": {},
      "cell_type": "markdown",
      "metadata": {
        "id": "B0QNxemPHq68"
      },
      "source": [
        "This tutorial will have the following structure:\n",
        "- Install packages\n",
        "- Train MLFlow model\n",
        "- Convert model to UbiOps deployment\n",
        "- Upload deployment to UbiOps\n",
        "- Run Inference\n",
        "  - Pandas Dataframe\n",
        "  - Numpy\n",
        "  - Dict"
      ]
    },
    {
      "attachments": {},
      "cell_type": "markdown",
      "metadata": {
        "id": "r4tyQQk_AVDE"
      },
      "source": [
        "## Installing required packages"
      ]
    },
    {
      "attachments": {},
      "cell_type": "markdown",
      "metadata": {
        "id": "ia-Afcf2Aafv"
      },
      "source": [
        "Some packages are needed to run the following notebook. They can be installed by running the code block below!"
      ]
    },
    {
      "cell_type": "code",
      "execution_count": null,
      "metadata": {
        "id": "otb5LQZObBOf"
      },
      "outputs": [],
      "source": [
        "!pip install \"mlflow[extras]\" -q\n",
        "!pip install pyyaml -q\n",
        "!pip install \"ubiops >= 3.15\" -q"
      ]
    },
    {
      "attachments": {},
      "cell_type": "markdown",
      "metadata": {
        "id": "Anj32nmSDTkh"
      },
      "source": [
        "## Train MLFlow model"
      ]
    },
    {
      "attachments": {},
      "cell_type": "markdown",
      "metadata": {
        "id": "4kNtjKUfkX-r"
      },
      "source": [
        "Now, let's train our example MLFlow Model. This code snippet is directly copied from the [MLFlow Github examples](https://github.com/mlflow/mlflow/blob/959e8d90a13b62d755115501dede4531e157c1e7/examples/sklearn_elasticnet_wine/train.py),\n",
        "with some adjustments to make it working in this notebook.\n",
        "\n",
        "Note that the input/output signatures of the SKlearn model will not be saved in the MLFlow model!"
      ]
    },
    {
      "cell_type": "code",
      "execution_count": null,
      "metadata": {
        "id": "RlW8t5Kakali"
      },
      "outputs": [],
      "source": [
        "# The data set used in this example is from http://archive.ics.uci.edu/ml/datasets/Wine+Quality\n",
        "# P. Cortez, A. Cerdeira, F. Almeida, T. Matos and J. Reis.\n",
        "# Modeling wine preferences by data mining from physicochemical properties. In Decision Support Systems, Elsevier, 47(4):547-553, 2009.\n",
        "\n",
        "import os\n",
        "import warnings\n",
        "import sys\n",
        "\n",
        "import pandas as pd\n",
        "import numpy as np\n",
        "from sklearn.metrics import mean_squared_error, mean_absolute_error, r2_score\n",
        "from sklearn.model_selection import train_test_split\n",
        "from sklearn.linear_model import ElasticNet\n",
        "from urllib.parse import urlparse\n",
        "import mlflow\n",
        "from mlflow.models.signature import infer_signature\n",
        "import mlflow.sklearn\n",
        "\n",
        "import logging\n",
        "\n",
        "logging.basicConfig(level=logging.WARN)\n",
        "logger = logging.getLogger(__name__)\n",
        "\n",
        "\n",
        "def eval_metrics(actual, pred):\n",
        "    rmse = np.sqrt(mean_squared_error(actual, pred))\n",
        "    mae = mean_absolute_error(actual, pred)\n",
        "    r2 = r2_score(actual, pred)\n",
        "    return rmse, mae, r2\n",
        "\n",
        "\n",
        "if __name__ == \"__main__\":\n",
        "    warnings.filterwarnings(\"ignore\")\n",
        "    np.random.seed(40)\n",
        "\n",
        "    # Read the wine-quality csv file from the URL\n",
        "    csv_url = (\n",
        "        \"https://raw.githubusercontent.com/mlflow/mlflow/master/tests/datasets/winequality-red.csv\"\n",
        "    )\n",
        "    try:\n",
        "        data = pd.read_csv(csv_url, sep=\";\")\n",
        "    except Exception as e: \n",
        "        logger.exception(\n",
        "            \"Unable to download training & test CSV, check your internet connection. Error: %s\", e\n",
        "        )\n",
        "\n",
        "    # Split the data into training and test sets. (0.75, 0.25) split.\n",
        "    train, test = train_test_split(data)\n",
        "\n",
        "    # The predicted column is \"quality\" which is a scalar from [3, 9]\n",
        "    train_x = train.drop([\"quality\"], axis=1)\n",
        "    test_x = test.drop([\"quality\"], axis=1)\n",
        "    train_y = train[[\"quality\"]]\n",
        "    test_y = test[[\"quality\"]]\n",
        "\n",
        "    alpha = 0.5\n",
        "    l1_ratio = 1\n",
        "\n",
        "    with mlflow.start_run():\n",
        "        lr = ElasticNet(alpha=alpha, l1_ratio=l1_ratio, random_state=42)\n",
        "        lr.fit(train_x, train_y)\n",
        "\n",
        "        predicted_qualities = lr.predict(test_x)\n",
        "\n",
        "        (rmse, mae, r2) = eval_metrics(test_y, predicted_qualities)\n",
        "\n",
        "        print(\"Elasticnet model (alpha={:f}, l1_ratio={:f}):\".format(alpha, l1_ratio))\n",
        "        print(\"  RMSE: %s\" % rmse)\n",
        "        print(\"  MAE: %s\" % mae)\n",
        "        print(\"  R2: %s\" % r2)\n",
        "\n",
        "        mlflow.log_param(\"alpha\", alpha)\n",
        "        mlflow.log_param(\"l1_ratio\", l1_ratio)\n",
        "        mlflow.log_metric(\"rmse\", rmse)\n",
        "        mlflow.log_metric(\"r2\", r2)\n",
        "        mlflow.log_metric(\"mae\", mae)\n",
        "\n",
        "        tracking_url_type_store = urlparse(mlflow.get_tracking_uri()).scheme\n",
        "\n",
        "        # Model registry does not work with file store\n",
        "        if tracking_url_type_store != \"file\":\n",
        "            # Register the model\n",
        "            # There are other ways to use the Model Registry, which depends on the use case,\n",
        "            # please refer to the doc for more information:\n",
        "            # https://mlflow.org/docs/latest/model-registry.html#api-workflow\n",
        "            mlflow.sklearn.log_model(\n",
        "                lr, \"model\", registered_model_name=\"ElasticnetWineModel\"\n",
        "            )\n",
        "        else:\n",
        "            mlflow.sklearn.log_model(lr, \"model\")"
      ]
    },
    {
      "attachments": {},
      "cell_type": "markdown",
      "metadata": {
        "id": "juKb-wXWrREZ"
      },
      "source": [
        "Try out different `alpha` and `l1_ratio` values to get different runs!"
      ]
    },
    {
      "attachments": {},
      "cell_type": "markdown",
      "metadata": {
        "id": "P4lBhVU7DxTH"
      },
      "source": [
        "### Retrieve best run"
      ]
    },
    {
      "attachments": {},
      "cell_type": "markdown",
      "metadata": {
        "id": "ZJFSmGYdsUnV"
      },
      "source": [
        "Now it's time to retrieve the run with the smallest `RMSE`"
      ]
    },
    {
      "cell_type": "code",
      "execution_count": null,
      "metadata": {
        "id": "-6dhr51mntst"
      },
      "outputs": [],
      "source": [
        "runs = mlflow.search_runs(order_by=[\"metrics.rmse ASC\"])\n",
        "best_run = runs.iloc[0]"
      ]
    },
    {
      "cell_type": "code",
      "execution_count": null,
      "metadata": {
        "id": "8BAzceFTBZUk"
      },
      "outputs": [],
      "source": [
        "print(best_run)"
      ]
    },
    {
      "attachments": {},
      "cell_type": "markdown",
      "metadata": {
        "id": "psGzGdOLsrNj"
      },
      "source": [
        "## Convert to UbiOps deployment"
      ]
    },
    {
      "attachments": {},
      "cell_type": "markdown",
      "metadata": {
        "id": "cDCFeNJ-suS7"
      },
      "source": [
        "We will now host this best MLFlow model inside a UbiOps deployment."
      ]
    },
    {
      "attachments": {},
      "cell_type": "markdown",
      "metadata": {
        "id": "Wf4f6HbZBy9S"
      },
      "source": [
        "Let's first set some global variables!"
      ]
    },
    {
      "cell_type": "code",
      "execution_count": null,
      "metadata": {
        "id": "8B05xa_KB1SM"
      },
      "outputs": [],
      "source": [
        "PATH_TO_MLFLOW_MODEL_ARTIFACT = os.path.join(best_run.artifact_uri, \"model\").replace(\"file://\", \"\")\n",
        "\n",
        "TOKEN = \"<TOKEN>\"\n",
        "PROJECT_NAME = \"<PROJECT NAME>\"\n",
        "DEPLOYMENT_NAME = \"mlflow-auto-deployment\"\n",
        "VERSION_NAME = \"v1\""
      ]
    },
    {
      "attachments": {},
      "cell_type": "markdown",
      "metadata": {
        "id": "OzqzKLI35iFf"
      },
      "source": [
        "### Creating files"
      ]
    },
    {
      "attachments": {},
      "cell_type": "markdown",
      "metadata": {
        "id": "OKhbJazY5jzk"
      },
      "source": [
        "Now it's time to create our deployment directory and add the right files to it so we can load our MLFlow model.  \n",
        "UbiOps supports a `libraries` directory where dependencies can be included. This directory is added to the system `$PATH` variable, such that its contents can be easily imported.  \n",
        "As earlier stated, UbiOps doesn't support the input types of the MLFlow Python flavor `predict` method natively. Therefore, we will add functions that will convert an input/output string to and from the input types in our libraries folder.  \n",
        "All of the 3 different input types will be tested in the [Inference](#inference) section."
      ]
    },
    {
      "cell_type": "code",
      "execution_count": null,
      "metadata": {
        "id": "oAxze0DA4Kkr"
      },
      "outputs": [],
      "source": [
        "!mkdir deployment_package\n",
        "!mkdir deployment_package/libraries"
      ]
    },
    {
      "cell_type": "code",
      "execution_count": null,
      "metadata": {
        "id": "vHIF1XHG4ZWC"
      },
      "outputs": [],
      "source": [
        "%%writefile deployment_package/deployment.py\n",
        "\n",
        "import mlflow\n",
        "import numpy\n",
        "import pandas\n",
        "from convert_data import data_to_string, string_to_data\n",
        "\n",
        "\n",
        "class Deployment:\n",
        "    def __init__(self):\n",
        "        print(mlflow.__version__)\n",
        "        self.model = mlflow.pyfunc.load_model(\"./model\")\n",
        "\n",
        "    def request(self, data):\n",
        "        data_parsed = string_to_data(data[\"input\"])\n",
        "        print(f\"Data type: {type(data_parsed)}\")\n",
        "        prediction = self.model.predict(data_parsed)\n",
        "        return {\"output\": data_to_string(prediction)}\n"
      ]
    },
    {
      "cell_type": "code",
      "execution_count": null,
      "metadata": {
        "id": "8BF13sV04lnd"
      },
      "outputs": [],
      "source": [
        "%%writefile deployment_package/libraries/convert_data.py\n",
        "\n",
        "import json\n",
        "\n",
        "import numpy as np\n",
        "import pandas as pd\n",
        "\n",
        "\n",
        "def data_to_string(data):\n",
        "    if isinstance(data, pd.DataFrame):\n",
        "        return json.dumps(data.to_dict())\n",
        "    elif isinstance(data, np.ndarray):\n",
        "        return json.dumps(data.tolist())\n",
        "    elif isinstance(data, dict) and all(isinstance(v, np.ndarray) for v in data.values()):\n",
        "        return json.dumps({k: v.tolist() for k, v in data.items()})\n",
        "    else:\n",
        "        raise ValueError(\"Unsupported data type\")\n",
        "\n",
        "\n",
        "def string_to_data(data_str):\n",
        "    data_json = json.loads(data_str)\n",
        "    if isinstance(data_json, dict):\n",
        "        if all(isinstance(v, list) for v in data_json.values()):\n",
        "            return {k: np.array(v) for k, v in data_json.items()}\n",
        "        else:\n",
        "            return pd.DataFrame.from_dict(data_json)\n",
        "    elif isinstance(data_json, list):\n",
        "        return np.array(data_json)\n",
        "    else:\n",
        "        raise ValueError(\"Unsupported data type\")"
      ]
    },
    {
      "cell_type": "code",
      "execution_count": null,
      "metadata": {
        "id": "BuyJwegQ46Nd"
      },
      "outputs": [],
      "source": [
        "%%writefile deployment_package/requirements.txt\n",
        "\n",
        "mlflow\n",
        "numpy\n",
        "pandas"
      ]
    },
    {
      "attachments": {},
      "cell_type": "markdown",
      "metadata": {
        "id": "dsZOcPYY6iLT"
      },
      "source": [
        "## Conversion functions"
      ]
    },
    {
      "attachments": {},
      "cell_type": "markdown",
      "metadata": {
        "id": "O-1Qkihr6n7t"
      },
      "source": [
        "The following function will convert your MLModel artifact to a UbiOps deployment.  \n",
        "The following steps are executed inside the function:\n",
        "\n",
        "1. A check is performed to see if the `python_function` is supported in the MLFlow model\n",
        "2. The `requirements.txt` of the MLFlow artifact is copied to the UbiOps deployment `requirements.txt`\n",
        "3. Other model files are copied to the deployment directory\n",
        "4. The deployment directory will be zipped\n",
        "5. The deployment directory will be deleted depending on the corresponding function input"
      ]
    },
    {
      "cell_type": "code",
      "execution_count": null,
      "metadata": {
        "id": "V6da7Vdz67Ab"
      },
      "outputs": [],
      "source": [
        "import os\n",
        "import shutil\n",
        "\n",
        "import yaml\n",
        "\n",
        "\n",
        "def convert_to_deployment_package(path_to_model_artifact, new_deployment_package_name, remove_directory=True):\n",
        "    \"\"\"\n",
        "    Converts a MLFlow model to a deployment package that can be uploaded to UbiOps\n",
        "    :param path_to_model_artifact: Path to the MLFlow model artifact\n",
        "    :param new_deployment_package_name: Name of the new deployment package\n",
        "    :param remove_directory: Whether to remove the deployment directory after zipping\n",
        "    \"\"\"\n",
        "\n",
        "    # Check if python_function exists under flavors in the MLmodel file\n",
        "    with open(f\"{path_to_model_artifact}/MLmodel\", \"r\") as f:\n",
        "        mlflow_yaml = yaml.safe_load(f)\n",
        "        if \"python_function\" not in mlflow_yaml[\"flavors\"]:\n",
        "            raise Exception(\"No python_function flavor found in MLmodel file\")\n",
        "\n",
        "    # Append requirements.txt from MLflow model to requirements.txt in deployment package at the beginning\n",
        "    # Double packages don't matter, pip will just ignore them in this case\n",
        "    with open(f\"{path_to_model_artifact}/requirements.txt\", \"r\") as f:\n",
        "        requirements = f.readlines()\n",
        "        with open(f\"{new_deployment_package_name}/requirements.txt\", \"r+\") as f2:\n",
        "            content = f2.read()\n",
        "            f2.seek(0)\n",
        "            f2.write(\"\".join(requirements) + \"\\n\" + content)\n",
        "\n",
        "    # Copy the model to the deployment package\n",
        "    shutil.copytree(path_to_model_artifact, f\"{new_deployment_package_name}/model\")\n",
        "\n",
        "    # Zip the deployment package including the directory\n",
        "    archive_location = shutil.make_archive(new_deployment_package_name, \"zip\", base_dir=new_deployment_package_name)\n",
        "\n",
        "    print(\"Deployment package created successfully\")\n",
        "\n",
        "    if remove_directory:\n",
        "        shutil.rmtree(new_deployment_package_name)\n",
        "\n",
        "    return archive_location"
      ]
    },
    {
      "cell_type": "code",
      "execution_count": null,
      "metadata": {
        "id": "M1CoMjsJ7mas"
      },
      "outputs": [],
      "source": [
        "deployment_zip = convert_to_deployment_package(\n",
        "    path_to_model_artifact=PATH_TO_MLFLOW_MODEL_ARTIFACT,\n",
        "    new_deployment_package_name=\"deployment_package\",\n",
        "    remove_directory=False\n",
        ")"
      ]
    },
    {
      "attachments": {},
      "cell_type": "markdown",
      "metadata": {
        "id": "fLw-xLmIBKZA"
      },
      "source": [
        "## Upload to UbiOps"
      ]
    },
    {
      "attachments": {},
      "cell_type": "markdown",
      "metadata": {
        "id": "P1crwesdBQFz"
      },
      "source": [
        "The following function will create a deployment in UbiOps and uploads the deployment package to it.  \n",
        "Don't hesitate to read through the function to see what's happening!"
      ]
    },
    {
      "cell_type": "code",
      "execution_count": null,
      "metadata": {
        "id": "k7rk0yWbR18y"
      },
      "outputs": [],
      "source": [
        "import ubiops\n",
        "\n",
        "if not TOKEN.startswith(\"Token \"):\n",
        "        TOKEN = \"Token \" + TOKEN\n",
        "\n",
        "configuration = ubiops.Configuration()\n",
        "# Configure API token authorization\n",
        "configuration.api_key['Authorization'] = TOKEN\n",
        "# Defining host is optional and default to \"https://api.ubiops.com/v2.1\"\n",
        "configuration.host = \"https://api.ubiops.com/v2.1\"\n",
        "\n",
        "api_client = ubiops.ApiClient(configuration)"
      ]
    },
    {
      "cell_type": "code",
      "execution_count": null,
      "metadata": {
        "id": "iKsT8so9BaqJ"
      },
      "outputs": [],
      "source": [
        "import ubiops\n",
        "from ubiops import ApiException\n",
        "\n",
        "\n",
        "def upload_mlflow_model_to_ubiops(api_client, project_name, deployment_name, version_name, deployment_zip,\n",
        "                                  new_deployment=True, new_version=True):\n",
        "    \"\"\"\n",
        "    Uploads a MLFlow model to UbiOps as a deployment\n",
        "\n",
        "    :param ApiClient api_client: UbiOps API client\n",
        "    :param str project_name: Project name\n",
        "    :param str deployment_name: Name of existing/new deployment\n",
        "    :param str version_name: Name of existing/new version\n",
        "    :param str deployment_zip: Path to deployment zip file\n",
        "    :param bool new_deployment: Whether to create a new deployment or use an existing deployment\n",
        "    :param bool new_version: Whether to create a new version or use an existing version\n",
        "    \"\"\"\n",
        "\n",
        "    core_api = ubiops.CoreApi(api_client)\n",
        "    if new_deployment and not new_version:\n",
        "        raise Exception(\"If new_deployment is True, new_version must be True as well\")\n",
        "\n",
        "    if new_deployment:\n",
        "        # Check if deployment exists\n",
        "        try:\n",
        "            deployment = core_api.deployments_get(project_name=project_name, deployment_name=deployment_name)\n",
        "            # Ask user if deployment should be overwritten\n",
        "            overwrite = input(f\"Deployment {deployment_name} already exists. Do you want to overwrite it? (Y/n) \")\n",
        "            if overwrite.lower() == \"y\" or overwrite.lower() == \"yes\" or overwrite == \"\":\n",
        "                print(\"Overwriting deployment\")\n",
        "                core_api.deployments_delete(project_name=project_name, deployment_name=deployment_name)\n",
        "            else:\n",
        "                raise Exception(\"Deployment already exists\")\n",
        "\n",
        "        except ApiException:\n",
        "            pass\n",
        "\n",
        "        deployment_template = ubiops.DeploymentCreate(\n",
        "            name=deployment_name,\n",
        "            description='MLFlow deployment',\n",
        "            input_type='structured',\n",
        "            output_type='structured',\n",
        "            input_fields=[{'name': 'input', 'data_type': 'string'}],\n",
        "            output_fields=[{'name': 'output', 'data_type': 'string'}],\n",
        "            labels={\"MLFlow\": \"auto-deployment\"},\n",
        "        )\n",
        "\n",
        "        core_api.deployments_create(project_name=project_name, data=deployment_template)\n",
        "    else:\n",
        "        try:\n",
        "            core_api.deployments_get(project_name=project_name, deployment_name=deployment_name)\n",
        "        except ApiException:\n",
        "            raise Exception(\"Deployment does not exist\")\n",
        "\n",
        "    if new_version:\n",
        "        try:\n",
        "            core_api.deployment_versions_get(\n",
        "                project_name=project_name,\n",
        "                deployment_name=deployment_name,\n",
        "                version=version_name\n",
        "            )\n",
        "            # Ask user if version should be overwritten\n",
        "            overwrite = input(f\"Version {version_name} already exists. Do you want to overwrite it? (Y/n) \")\n",
        "            if overwrite.lower() == \"y\" or overwrite.lower() == \"yes\" or overwrite == \"\":\n",
        "                print(\"Overwriting version\")\n",
        "                core_api.deployment_versions_delete(\n",
        "                    project_name=project_name,\n",
        "                    deployment_name=deployment_name,\n",
        "                    version=version_name\n",
        "                )\n",
        "            else:\n",
        "                raise Exception(\"Version already exists\")\n",
        "\n",
        "        except ApiException:\n",
        "            pass\n",
        "\n",
        "        version_template = ubiops.DeploymentVersionCreate(\n",
        "            version=version_name,\n",
        "            environment='python3-10',\n",
        "            instance_type='2048mb',\n",
        "            maximum_instances=1,\n",
        "            minimum_instances=0,\n",
        "            maximum_idle_time=1800,  # = 30 minutes\n",
        "            request_retention_mode='full'\n",
        "        )\n",
        "\n",
        "        core_api.deployment_versions_create(\n",
        "            project_name=project_name,\n",
        "            deployment_name=deployment_name,\n",
        "            data=version_template\n",
        "        )\n",
        "    else:\n",
        "        try:\n",
        "            core_api.deployment_versions_get(\n",
        "                project_name=project_name,\n",
        "                deployment_name=deployment_name,\n",
        "                version=version_name\n",
        "            )\n",
        "        except ApiException:\n",
        "            raise Exception(\"Version does not exist\")\n",
        "\n",
        "    upload_response = core_api.revisions_file_upload(\n",
        "        project_name=project_name,\n",
        "        deployment_name=deployment_name,\n",
        "        version=version_name,\n",
        "        file=deployment_zip\n",
        "    )\n",
        "    print(upload_response)"
      ]
    },
    {
      "cell_type": "code",
      "execution_count": null,
      "metadata": {
        "id": "uraXP95dBidV"
      },
      "outputs": [],
      "source": [
        "upload_mlflow_model_to_ubiops(\n",
        "    api_client=api_client,\n",
        "    project_name=PROJECT_NAME,\n",
        "    deployment_name=DEPLOYMENT_NAME,\n",
        "    version_name=VERSION_NAME,\n",
        "    deployment_zip=deployment_zip\n",
        ")"
      ]
    },
    {
      "attachments": {},
      "cell_type": "markdown",
      "metadata": {
        "id": "JrrxrIF0QAK9"
      },
      "source": [
        "Let's wait for the deployment to be done!"
      ]
    },
    {
      "cell_type": "code",
      "execution_count": null,
      "metadata": {
        "id": "kjLszx1PQB1L"
      },
      "outputs": [],
      "source": [
        "ubiops.utils.wait_for_deployment_version(\n",
        "    client=api_client,\n",
        "    project_name = PROJECT_NAME,\n",
        "    deployment_name = DEPLOYMENT_NAME,\n",
        "    version = VERSION_NAME\n",
        ")"
      ]
    },
    {
      "attachments": {},
      "cell_type": "markdown",
      "metadata": {
        "id": "0Np6MxtpWMmK"
      },
      "source": [
        "## Inference"
      ]
    },
    {
      "attachments": {},
      "cell_type": "markdown",
      "metadata": {
        "id": "-zxA8PrzWODD"
      },
      "source": [
        "Now it's time to run inference on the deployed MLFlow model inside UbiOps. All of the 3 different input types will be showcased, namely:  \n",
        "\n",
        "1. Pandas Dataframe\n",
        "2. Numpy Array\n",
        "3. Dict[`str`, numpy array]\n",
        "\n",
        "Do note that option 2, giving a `Numpy array` as input, does not work when the signatures are logged for the MLFlow model.\n",
        "Use a `Pandas Dataframe` or `Dict[str, numpy array]` instead in this case!"
      ]
    },
    {
      "attachments": {},
      "cell_type": "markdown",
      "metadata": {
        "id": "7V2UeEUtYX6F"
      },
      "source": [
        "The following functions will be used to convert every data type to/from a string, so every data type will be interpretable by UbiOps."
      ]
    },
    {
      "cell_type": "code",
      "execution_count": null,
      "metadata": {
        "id": "Tm9tmgoYYngP"
      },
      "outputs": [],
      "source": [
        "import json\n",
        "\n",
        "import numpy as np\n",
        "import pandas as pd\n",
        "\n",
        "\n",
        "def data_to_string(data):\n",
        "    if isinstance(data, pd.DataFrame):\n",
        "        return json.dumps(data.to_dict())\n",
        "    elif isinstance(data, np.ndarray):\n",
        "        return json.dumps(data.tolist())\n",
        "    elif isinstance(data, dict) and all(isinstance(v, np.ndarray) for v in data.values()):\n",
        "        return json.dumps({k: v.tolist() for k, v in data.items()})\n",
        "    else:\n",
        "        raise ValueError(\"Unsupported data type\")\n",
        "\n",
        "\n",
        "def string_to_data(data_str):\n",
        "    data_json = json.loads(data_str)\n",
        "    if isinstance(data_json, dict):\n",
        "        if all(isinstance(v, list) for v in data_json.values()):\n",
        "            return {k: np.array(v) for k, v in data_json.items()}\n",
        "        else:\n",
        "            return pd.DataFrame.from_dict(data_json)\n",
        "    elif isinstance(data_json, list):\n",
        "        return np.array(data_json)\n",
        "    else:\n",
        "        raise ValueError(\"Unsupported data type\")"
      ]
    },
    {
      "attachments": {},
      "cell_type": "markdown",
      "metadata": {
        "id": "T5p2HdUEYDIB"
      },
      "source": [
        "### Pandas Dataframe"
      ]
    },
    {
      "attachments": {},
      "cell_type": "markdown",
      "metadata": {
        "id": "notWtwndJAh9"
      },
      "source": [
        "In order to get a Pandas dataframe from the sample, we'll be grabbing the first 3 samples of the training set!"
      ]
    },
    {
      "cell_type": "code",
      "execution_count": null,
      "metadata": {
        "id": "nif_JvJ6JThT"
      },
      "outputs": [],
      "source": [
        "data_pandas = train_x[:3]\n",
        "print(data_pandas)"
      ]
    },
    {
      "attachments": {},
      "cell_type": "markdown",
      "metadata": {
        "id": "URR_3ugnQsyQ"
      },
      "source": [
        "Let's transfer our Pandas dataframe to a string, so we can make a request to our deployment!"
      ]
    },
    {
      "cell_type": "code",
      "execution_count": null,
      "metadata": {
        "id": "-rOQPchzQ0Qy"
      },
      "outputs": [],
      "source": [
        "data_pandas_string = data_to_string(data_pandas)\n",
        "print(data_pandas_string)"
      ]
    },
    {
      "attachments": {},
      "cell_type": "markdown",
      "metadata": {
        "id": "Ib3PR1TuRCJN"
      },
      "source": [
        "Now, let's send this string to our deployment!"
      ]
    },
    {
      "cell_type": "code",
      "execution_count": null,
      "metadata": {
        "id": "ORsR8cErRSjE"
      },
      "outputs": [],
      "source": [
        "core_api = ubiops.CoreApi(api_client)\n",
        "\n",
        "result = core_api.deployment_version_requests_create(\n",
        "  project_name=PROJECT_NAME,\n",
        "  deployment_name=DEPLOYMENT_NAME,\n",
        "  version=VERSION_NAME,\n",
        "  data={\"input\": data_pandas_string}    \n",
        ")"
      ]
    },
    {
      "attachments": {},
      "cell_type": "markdown",
      "metadata": {
        "id": "vaufsa4FTbb6"
      },
      "source": [
        "As we can see, we get a perfect output back!  \n",
        "We can even convert the string back to an usable data type!"
      ]
    },
    {
      "cell_type": "code",
      "execution_count": null,
      "metadata": {
        "id": "AJevZlaETp-4"
      },
      "outputs": [],
      "source": [
        "print(f\"Original data type: {type(data_pandas)}\")\n",
        "print(f\"Output of UbiOps request is: {type(result.result['output'])}\")\n",
        "result_converted = string_to_data(result.result[\"output\"])\n",
        "print(f\"Output after conversion: {result_converted}\")\n",
        "print(f\"Type after conversion: {type(result_converted)}\")"
      ]
    },
    {
      "attachments": {},
      "cell_type": "markdown",
      "metadata": {
        "id": "nIN0vEDAUn4j"
      },
      "source": [
        "### Numpy array"
      ]
    },
    {
      "attachments": {},
      "cell_type": "markdown",
      "metadata": {
        "id": "7bALpzIwVD8P"
      },
      "source": [
        "Let's do the same now, but with a numpy array as input!"
      ]
    },
    {
      "cell_type": "code",
      "execution_count": null,
      "metadata": {
        "id": "Obay9wCQihNw"
      },
      "outputs": [],
      "source": [
        "data_numpy = data_pandas.to_numpy()\n",
        "data_numpy_string = data_to_string(data_numpy)\n",
        "\n",
        "result = core_api.deployment_version_requests_create(\n",
        "  project_name=PROJECT_NAME,\n",
        "  deployment_name=DEPLOYMENT_NAME,\n",
        "  version=VERSION_NAME,\n",
        "  data={\"input\": data_numpy_string}    \n",
        ")\n",
        "\n",
        "print(f\"Original data type: {type(data_numpy)}\")\n",
        "print(f\"Output of UbiOps request is: {type(result.result['output'])}\")\n",
        "result_converted = string_to_data(result.result[\"output\"])\n",
        "print(f\"Output after conversion: {result_converted}\")\n",
        "print(f\"Type after conversion: {type(result_converted)}\")"
      ]
    },
    {
      "attachments": {},
      "cell_type": "markdown",
      "metadata": {
        "id": "BMzt62Bl-6L_"
      },
      "source": [
        "### Dict[`str`, numpy array]\n"
      ]
    },
    {
      "cell_type": "code",
      "execution_count": null,
      "metadata": {
        "id": "gZ95AT-w--om"
      },
      "outputs": [],
      "source": [
        "data_dict = {k: np.array(v) for k, v in data_pandas.to_dict(orient=\"list\").items()}\n",
        "data_dict_string = data_to_string(data_numpy)\n",
        "\n",
        "result = core_api.deployment_version_requests_create(\n",
        "  project_name=PROJECT_NAME,\n",
        "  deployment_name=DEPLOYMENT_NAME,\n",
        "  version=VERSION_NAME,\n",
        "  data={\"input\": data_dict_string}    \n",
        ")\n",
        "\n",
        "print(f\"Original data type: {type(data_dict)}\")\n",
        "print(f\"Output of UbiOps request is: {type(result.result['output'])}\")\n",
        "result_converted = string_to_data(result.result[\"output\"])\n",
        "print(f\"Output after conversion: {result_converted}\")\n",
        "print(f\"Type after conversion: {type(result_converted)}\")"
      ]
    }
  ],
  "metadata": {
    "colab": {
      "provenance": []
    },
    "kernelspec": {
      "display_name": "Python 3",
      "name": "python3"
    },
    "language_info": {
      "name": "python"
    }
  },
  "nbformat": 4,
  "nbformat_minor": 0
}
