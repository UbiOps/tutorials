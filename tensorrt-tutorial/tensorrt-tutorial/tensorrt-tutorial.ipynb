{
  "cells": [
    {
      "attachments": {},
      "cell_type": "markdown",
      "metadata": {
        "id": "fc9_EiDT6c9Y"
      },
      "source": [
        "# Using TensorRT in UbiOps\n",
        "\n",
        "UbiOps provides the perfect infrastructure to run your machine learning models with NVIDIA TensorRT.\n",
        "\n",
        "**On this page, we will show how to run an inference job with TensorRT on UbiOps!**\n",
        "\n",
        "## **WARNING: This tutorial is currently under maintenance**\n",
        "\n",
        "We will create a deployment where TensorRT is running, upload a model that uses TensorRT and then show the speed differences between running this model with TensorRT, CUDA or only the CPU. TensorRT and CUDA will be tested on 2 different GPU's; the NVIDIA T4 and the NVIDIA A100.\n",
        "\n",
        "### **Model**  \n",
        "The model used will be the [Resnet152 ONNX model](), pretrained on the [ImageNet database](https://www.image-net.org/). This pretrained model is used to classify images to 1000 different classes.\n",
        "\n",
        "This model will be run with different inference engines (TensorRT, CUDA, CPU) by making use of the [ONNX Runtime Python package](https://onnxruntime.ai/docs/get-started/with-python.html), all inside UbiOps.\n",
        "\n",
        "The following software stack will be used inside UbiOps:  \n",
        "\n",
        "\n",
        "| Technology           | Version      |\n",
        "|----------------------|--------------|\n",
        "| Operating System     | Ubuntu 22.04 |\n",
        "| Python Version       | 3.10         |\n",
        "| CUDA Version         | 11.7.1       |\n",
        "\n",
        "\n",
        "## **Note: GPU Access is needed inside UbiOps!**"
      ]
    },
    {
      "cell_type": "markdown",
      "metadata": {
        "id": "gax7Gq22MnuU"
      },
      "source": [
        "***\n",
        "# 1) Set project variables and initialize the UbiOps API Client\n",
        "First, make sure you create an **API token** with `project editor` permissions in your UbiOps project and paste it below. Also fill in your corresponding UbiOps project name. "
      ]
    },
    {
      "cell_type": "code",
      "execution_count": null,
      "metadata": {
        "id": "BrpyHxvg6bC3"
      },
      "outputs": [],
      "source": [
        "import yaml\n",
        "import os\n",
        "    \n",
        "API_TOKEN = \"<insert-your-token-here>\" # Make sure this is in the format \"Token token-code\"\n",
        "PROJECT_NAME = '<your-project-name>'  # Fill in the corresponding UbiOps project name\n",
        "DEPLOYMENT_NAME = \"tensorrt-infer-tutorial\"   # You can change this to any name for the deployment\n",
        "DEPLOYMENT_VERSION_TENSORRT_T4 = 'tensorrt-t4'   # Choose a name for the version. We use `tensorrt-t4` here, as we're gonna use TensorRT on a NVIDIA T4 GPU\n",
        "\n",
        "ubiops_package_name_tensorrt = \"ubiops_tensorrt_inference_pkg\"\n",
        "if not os.path.exists(ubiops_package_name_tensorrt):\n",
        "    # This will create a new local folder to use for deployment files later\n",
        "    os.makedirs(ubiops_package_name_tensorrt)\n",
        "\n",
        "print(f'Your new deployment will be called: {DEPLOYMENT_NAME}.')"
      ]
    },
    {
      "cell_type": "markdown",
      "metadata": {
        "id": "2dt6P4POO_TY"
      },
      "source": [
        "### Initialize the UbiOps client library with the API token\n",
        "Now we import the UbiOps Python client and authenticate with the API. You can install it with `pip install ubiops`"
      ]
    },
    {
      "cell_type": "code",
      "execution_count": null,
      "metadata": {
        "colab": {
          "base_uri": "https://localhost:8080/"
        },
        "id": "8VB3yGZwz4ce",
        "outputId": "690e2ec3-f716-4675-b392-7d2ae8cb30ee"
      },
      "outputs": [],
      "source": [
        "!pip install \"ubiops<4\"\n",
        "import ubiops\n",
        "\n",
        "configuration = ubiops.Configuration(host=\"https://api.ubiops.com/v2.1\")\n",
        "configuration.api_key['Authorization'] = API_TOKEN\n",
        "\n",
        "client = ubiops.ApiClient(configuration)\n",
        "api = ubiops.CoreApi(client)\n",
        "api.service_status()"
      ]
    },
    {
      "cell_type": "markdown",
      "metadata": {
        "id": "qyj4PvTRTSyM"
      },
      "source": [
        "***\n",
        "# 2) Setup deployment environment\n",
        "In order to make TensorRT running inside the deployment, we need to set up the environment of the deployment so that everything will run smoothly. This will be done by specifying the `requirements.txt` and the `ubiops.yaml` file.\n"
      ]
    },
    {
      "cell_type": "markdown",
      "metadata": {
        "id": "k8YzummyZi06"
      },
      "source": [
        "## a) Requirements.txt file\n",
        "The `requirements.txt` file lists all the necessary packages that have to be installed in the deployment container. UbiOps will install these packages automatically for you."
      ]
    },
    {
      "cell_type": "code",
      "execution_count": null,
      "metadata": {
        "colab": {
          "base_uri": "https://localhost:8080/"
        },
        "id": "28FENyQ7ZkEh",
        "outputId": "2484f149-6c0c-4f52-849b-5c44a926d989"
      },
      "outputs": [],
      "source": [
        "%%writefile ubiops_tensorrt_inference_pkg/requirements.txt\n",
        "\n",
        "onnx==1.13.1\n",
        "onnxruntime-gpu==1.14.1\n",
        "tensorrt==8.5.3.1\n",
        "numpy\n",
        "Pillow"
      ]
    },
    {
      "cell_type": "markdown",
      "metadata": {
        "id": "wR4owfc-ac2j"
      },
      "source": [
        "## b) ubiops.yaml file\n",
        "The `ubiops.yaml` file is used to install additional software packages and set environment variables. The latter is what we're after.  \n",
        "We will specify where TensorRT is installed this way!"
      ]
    },
    {
      "cell_type": "code",
      "execution_count": null,
      "metadata": {
        "colab": {
          "base_uri": "https://localhost:8080/"
        },
        "id": "5myREjr7bpU_",
        "outputId": "7c9ac3b2-c30b-4c89-fd4b-7f38bf3e8afa"
      },
      "outputs": [],
      "source": [
        "%%writefile ubiops_tensorrt_inference_pkg/ubiops.yaml\n",
        "\n",
        "environment_variables:\n",
        "  - LD_LIBRARY_PATH=/var/deployment_instance/venv/lib/python3.10/site-packages/tensorrt/:${LD_LIBRARY_PATH}\n"
      ]
    },
    {
      "cell_type": "markdown",
      "metadata": {
        "id": "_5TtiqKMb45x"
      },
      "source": [
        "# 3) Deployment code\n",
        "\n",
        "The code used will be put inside a `deployment.py` file. This code will be run when a call to the deployment is made.  \n",
        "\n",
        "We will set up the `deployment.py` in such a way that it expects a file path as input.  \n",
        "The output will be an array of 5 strings with the top 5 predicted classes and their probabilities. The inference time will also be given in the output \n",
        "\n",
        "The model input is contained in the `data` variable, which is a dictionary. We will return a dictionary including the array of top 5 predicted classes and the inference time:\n",
        "***\n",
        "| Deployment input & output variables |                   |                    |\n",
        "|-------------------------------------|-------------------|--------------------|\n",
        "|                                     | **Variable name** | **Data type**      |\n",
        "| **Input fields**                    | file              | File               |\n",
        "| **Output fields**                   | predictions       | Array of Strings   |\n",
        "|                                     | time              | Double precision   |\n",
        "\n",
        "***\n",
        "The following code will be used:"
      ]
    },
    {
      "cell_type": "code",
      "execution_count": null,
      "metadata": {
        "colab": {
          "base_uri": "https://localhost:8080/"
        },
        "id": "o-6aOX1Lnvvu",
        "outputId": "9e0279ba-c218-4fda-926d-0ae7000e4085"
      },
      "outputs": [],
      "source": [
        "%%writefile ubiops_tensorrt_inference_pkg/deployment.py\n",
        "\n",
        "import os\n",
        "import time\n",
        "import urllib.request\n",
        "\n",
        "import numpy as np\n",
        "import onnxruntime as rt\n",
        "from PIL import Image\n",
        "\n",
        "\n",
        "class Deployment:\n",
        "    def __init__(self, base_directory, context):\n",
        "        # Check if the model exists\n",
        "        if not os.path.exists('resnet152-v2-7.onnx'):\n",
        "            # Download the model\n",
        "            print('Downloading model...')\n",
        "            urllib.request.urlretrieve(\n",
        "                ''\n",
        "            )\n",
        "            print('Model downloaded')\n",
        "\n",
        "        # Check if the labels file exists\n",
        "        if not os.path.exists('synset.txt'):\n",
        "            # Download the labels file\n",
        "            print('Downloading labels...')\n",
        "            urllib.request.urlretrieve(\n",
        "                ''\n",
        "            )\n",
        "            print('Labels downloaded')\n",
        "\n",
        "        checker = onnx.checker.check_model('resnet152-v2-7.onnx')\n",
        "        print(checker)\n",
        "        # Load the model and set available providers - TensorRT, CUDA, CPU\n",
        "        self.sess = rt.InferenceSession('resnet152-v2-7.onnx',\n",
        "                                        providers=['TensorrtExecutionProvider', 'CUDAExecutionProvider',\n",
        "                                                   'CPUExecutionProvider'])\n",
        "\n",
        "        # Define input and output names\n",
        "        self.input_name = self.sess.get_inputs()[0].name\n",
        "        self.output_name = self.sess.get_outputs()[0].name\n",
        "\n",
        "        # Load the labels file\n",
        "        with open('synset.txt', 'r') as f:\n",
        "            self.labels = [line.strip() for line in f.readlines()]\n",
        "\n",
        "    def request(self, data):\n",
        "        # Open the image using PIL\n",
        "        img = Image.open(data['file'])\n",
        "\n",
        "        # Resize the image to the input size expected by the model\n",
        "        img = img.resize((224, 224))\n",
        "\n",
        "        # Convert the image to a numpy array\n",
        "        img = np.asarray(img)\n",
        "\n",
        "        # Convert the image to the format expected by the model (RGB, float32)\n",
        "        img = img[:, :, :3]  # remove alpha channel if present\n",
        "        img = img.transpose((2, 0, 1))  # change from HWC to CHW format\n",
        "        img = img.astype(np.float32) / 255.0  # normalize pixel values to [0, 1]\n",
        "\n",
        "        # Normalize using mean = [0.485, 0.456, 0.406] and std = [0.229, 0.224, 0.225].\n",
        "        img[0] = (img[0] - 0.485) / 0.229\n",
        "        img[1] = (img[1] - 0.456) / 0.224\n",
        "        img[2] = (img[2] - 0.406) / 0.225\n",
        "\n",
        "        img = np.expand_dims(img, axis=0)  # add batch dimension\n",
        "\n",
        "        # Run inference and time it\n",
        "        start = time.time()\n",
        "        output = self.sess.run([self.output_name], {self.input_name: img})[0].flatten()\n",
        "        end = time.time()\n",
        "        inference_time = end - start\n",
        "\n",
        "        # Get the top 5 predicted classes and their probabilities\n",
        "        top_idx = np.argsort(output)[::-1][:5]\n",
        "        top_prob = output[top_idx]\n",
        "\n",
        "        # Create the predictions\n",
        "        predictions = [f'{i + 1}. {self.labels[top_idx[i]]}: {top_prob[i]:.3f}' for i in range(5)]\n",
        "\n",
        "        # Return the predictions and the inference time\n",
        "        return {\n",
        "            'predictions': predictions,\n",
        "            'time': inference_time\n",
        "        }\n"
      ]
    },
    {
      "cell_type": "markdown",
      "metadata": {
        "id": "siEro3HFzFBH"
      },
      "source": [
        "***\n",
        "# 4) Define and create the deployment in UbiOps\n",
        "We will now use the Python client to define a new deployment in UbiOps with the input and output definitions as mentioned earlier"
      ]
    },
    {
      "cell_type": "code",
      "execution_count": null,
      "metadata": {
        "colab": {
          "base_uri": "https://localhost:8080/",
          "height": 365
        },
        "id": "2ye_fEoZ1Mup",
        "outputId": "b0f37f43-91e6-48d3-d4a8-aa7674316d6e"
      },
      "outputs": [],
      "source": [
        "deployment_template = ubiops.DeploymentCreate(\n",
        "    name=DEPLOYMENT_NAME,\n",
        "    input_type='structured',\n",
        "    output_type='structured',\n",
        "    input_fields=[\n",
        "        {'name': 'file', \n",
        "         'data_type': 'file'}\n",
        "    ],\n",
        "    output_fields=[\n",
        "        {'name': 'predictions', \n",
        "         'data_type': 'array_string'},\n",
        "        {'name': 'time', \n",
        "         'data_type': 'double'},\n",
        "    ]\n",
        ")\n",
        "\n",
        "api.deployments_create(project_name=PROJECT_NAME, data=deployment_template)"
      ]
    },
    {
      "attachments": {},
      "cell_type": "markdown",
      "metadata": {
        "id": "P7_4mu-9z4cm"
      },
      "source": [
        "### Create a deployment version\n",
        "Next we create a version for the deployment. For the version we set the name, environment and size of the instance (we're using a GPU instance here, check if the instance type specified here is available!)."
      ]
    },
    {
      "cell_type": "code",
      "execution_count": null,
      "metadata": {
        "colab": {
          "base_uri": "https://localhost:8080/",
          "height": 365
        },
        "id": "z8Ohj_FUz4cm",
        "outputId": "a94687c0-cc4c-406e-ce5f-407e3a6d0580"
      },
      "outputs": [],
      "source": [
        "template_tensorrt_t4 = {\n",
        "    \"version\": DEPLOYMENT_VERSION_TENSORRT_T4,\n",
        "    \"environment\": \"ubuntu22-04-python3-10-cuda11-7-1\",\n",
        "    \"instance_type\": \"16384mb_t4\",\n",
        "    \"maximum_instances\": 1,\n",
        "    \"minimum_instances\": 0,\n",
        "    \"maximum_idle_time\": 300,\n",
        "}\n",
        "api.deployment_versions_create(project_name=PROJECT_NAME, deployment_name=DEPLOYMENT_NAME, data=template_tensorrt_t4)"
      ]
    },
    {
      "cell_type": "markdown",
      "metadata": {
        "id": "fwsHC7hWz4cn"
      },
      "source": [
        "***\n",
        "# 5) Package and upload the code\n",
        "Now we have the deployment and version defined, we can upload the actual code to it. We zip and upload the folder containing the `requirements.txt`, `ubiops.yaml` and `deployment.py` files. As we do this, UbiOps will build a container based on the settings above and install all packages defined in our requirements file. \n",
        "\n",
        "**This process can take a few minutes!**"
      ]
    },
    {
      "cell_type": "markdown",
      "metadata": {
        "id": "osDfQrU1z4cn"
      },
      "source": [
        "<div class=\"alert alert-block alert-info\"><b>Tip:</b> You can also check the status in the UbiOps browser UI by navigating to the deployment version and clicking the `logs` icon. </div>"
      ]
    },
    {
      "cell_type": "code",
      "execution_count": null,
      "metadata": {
        "id": "sVdb2QEQz4co"
      },
      "outputs": [],
      "source": [
        "import shutil\n",
        "zip_dir_tensorrt = shutil.make_archive(\"deployment_package_tensorrt\", 'zip', ubiops_package_name_tensorrt)"
      ]
    },
    {
      "cell_type": "code",
      "execution_count": null,
      "metadata": {
        "colab": {
          "base_uri": "https://localhost:8080/"
        },
        "id": "3gjHbENvHYw-",
        "outputId": "f4e84f39-b18e-4952-90e7-a861afc8c55e"
      },
      "outputs": [],
      "source": [
        "# Upload the directory with model files to UbiOps\n",
        "upload_response = api.revisions_file_upload(\n",
        "    project_name=PROJECT_NAME,\n",
        "    deployment_name=DEPLOYMENT_NAME,\n",
        "    version=DEPLOYMENT_VERSION_TENSORRT_T4,\n",
        "    file=zip_dir_tensorrt\n",
        ")\n",
        "print(upload_response)"
      ]
    },
    {
      "cell_type": "markdown",
      "metadata": {
        "id": "i6PNCv-wz4co"
      },
      "source": [
        "### Wait for the deployment to be ready"
      ]
    },
    {
      "cell_type": "code",
      "execution_count": null,
      "metadata": {
        "id": "FUf85RHVz4co"
      },
      "outputs": [],
      "source": [
        "ubiops.utils.wait_for_deployment_version(\n",
        "    client=api.api_client,\n",
        "    project_name=PROJECT_NAME,\n",
        "    deployment_name=DEPLOYMENT_NAME,\n",
        "    version=DEPLOYMENT_VERSION_TENSORRT_T4,\n",
        "    revision_id=upload_response.revision\n",
        ")"
      ]
    },
    {
      "cell_type": "markdown",
      "metadata": {
        "id": "v_pPhaHwz4cp"
      },
      "source": [
        "***\n",
        "# 6) Create a request to the model API in UbiOps to start a training run"
      ]
    },
    {
      "cell_type": "markdown",
      "metadata": {
        "id": "Zr2e9hcD-ugk"
      },
      "source": [
        "Now it's time to make a request! Since we use a file as input, we first need to upload our file to UbiOps. Let's download a random sample image from the [imagenet-sample-images](https://github.com/EliSchwartz/imagenet-sample-images) Github repository."
      ]
    },
    {
      "cell_type": "code",
      "execution_count": null,
      "metadata": {
        "id": "5uSUZs78KX82"
      },
      "outputs": [],
      "source": [
        "import requests\n",
        "import random\n",
        "\n",
        "# Set url for Github API endpoint\n",
        "url = \"https://api.github.com/repos/EliSchwartz/imagenet-sample-images/contents/\"\n",
        "\n",
        "# Send request\n",
        "data = requests.get(url).json()\n",
        "\n",
        "# Get random image download url from the data\n",
        "download_url = data[random.randint(2, len(data))]['download_url']\n",
        "\n",
        "# download the image\n",
        "response = requests.get(download_url)\n",
        "\n",
        "# save the image to disk\n",
        "with open(\"image.jpg\", \"wb\") as f:\n",
        "    f.write(response.content)\n",
        "\n"
      ]
    },
    {
      "cell_type": "markdown",
      "metadata": {
        "id": "A1HAeXxjRZkb"
      },
      "source": [
        "Now we can see if the image has downloaded correctly and show it!"
      ]
    },
    {
      "cell_type": "code",
      "execution_count": null,
      "metadata": {
        "colab": {
          "base_uri": "https://localhost:8080/",
          "height": 517
        },
        "id": "bcHH6KrqReqz",
        "outputId": "b8b13564-6ad3-46dd-8ec9-00dbffc03826"
      },
      "outputs": [],
      "source": [
        "from IPython.display import Image\n",
        "Image(\"image.jpg\")"
      ]
    },
    {
      "cell_type": "markdown",
      "metadata": {
        "id": "jxbZ3zuFSRGR"
      },
      "source": [
        "Let's upload this image to Ubiops and create a direct request!"
      ]
    },
    {
      "cell_type": "code",
      "execution_count": null,
      "metadata": {
        "colab": {
          "base_uri": "https://localhost:8080/"
        },
        "id": "WPPd4hjISV1e",
        "outputId": "3aa32f8d-ec96-49ce-cb71-ae77d0c854d0"
      },
      "outputs": [],
      "source": [
        "ubiops_file_url = ubiops.utils.upload_file(client=client, project_name=PROJECT_NAME, file_path=\"image.jpg\")\n",
        "print(f\"Image file: {ubiops_file_url}\")\n",
        "\n",
        "data = {\n",
        "    \"file\": ubiops_file_url\n",
        "}\n",
        "\n",
        "request_response = api.deployment_version_requests_create(\n",
        "    project_name=PROJECT_NAME,\n",
        "    deployment_name=DEPLOYMENT_NAME,\n",
        "    version=DEPLOYMENT_VERSION_TENSORRT_T4,\n",
        "    data=data\n",
        ")\n",
        "print(\"Request finished!\")"
      ]
    },
    {
      "cell_type": "markdown",
      "metadata": {
        "id": "b26kQ-v_YL8K"
      },
      "source": [
        "Let's parse the output in a nice to read format!"
      ]
    },
    {
      "cell_type": "code",
      "execution_count": null,
      "metadata": {
        "colab": {
          "base_uri": "https://localhost:8080/"
        },
        "id": "Ss8-sGfRVmbp",
        "outputId": "ec982371-e724-4931-eeea-4651eb52cbc9"
      },
      "outputs": [],
      "source": [
        "print(\"Predictions:\")\n",
        "for pred in request_response.result[\"predictions\"]:\n",
        "    print(\"- \" + pred)\n",
        "print(\"Time: \" + str(request_response.result[\"time\"]))"
      ]
    },
    {
      "cell_type": "markdown",
      "metadata": {
        "id": "nGtAcA1WgX1E"
      },
      "source": [
        "Try running a request multiple times to see the effect of the TensorRT start-up time and the inference time when the model has been built!"
      ]
    },
    {
      "cell_type": "markdown",
      "metadata": {
        "id": "bCbDmjsDYqYq"
      },
      "source": [
        "The preceding code has been benchmarked with different inference engines and hardware setups (different GPUs).  \n",
        "The start-up times and inference times can be seen in the following figures:"
      ]
    },
    {
      "cell_type": "markdown",
      "metadata": {
        "id": "ZFcvBR2rYiyT"
      },
      "source": [
        "![InferenceTimeTensorRT.png](data:image/png;base64,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)\n",
        "\n"
      ]
    },
    {
      "cell_type": "markdown",
      "metadata": {
        "id": "DP_IEMrRZCUt"
      },
      "source": [
        "![StartupTimeTensorRT.png](data:image/png;base64,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)"
      ]
    },
    {
      "cell_type": "markdown",
      "metadata": {
        "id": "1qSXur-yIDBE"
      },
      "source": [
        "## 7) Cleanup"
      ]
    },
    {
      "cell_type": "markdown",
      "metadata": {
        "id": "Nz_r69mpIJ6i"
      },
      "source": [
        "Close the connection with the UbiOps API client."
      ]
    },
    {
      "cell_type": "code",
      "execution_count": null,
      "metadata": {
        "id": "ExdgImH-IMI2"
      },
      "outputs": [],
      "source": [
        "client.close()"
      ]
    }
  ],
  "metadata": {
    "colab": {
      "provenance": []
    },
    "kernelspec": {
      "display_name": "Python 3",
      "name": "python3"
    },
    "language_info": {
      "codemirror_mode": {
        "name": "ipython",
        "version": 3
      },
      "file_extension": ".py",
      "mimetype": "text/x-python",
      "name": "python",
      "nbconvert_exporter": "python",
      "pygments_lexer": "ipython3",
      "version": "3.10.1"
    }
  },
  "nbformat": 4,
  "nbformat_minor": 0
}
